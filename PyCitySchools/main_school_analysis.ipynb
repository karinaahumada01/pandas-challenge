{
 "cells": [
  {
   "cell_type": "code",
   "execution_count": 99,
   "id": "568e7cff",
   "metadata": {
    "scrolled": false
   },
   "outputs": [
    {
     "data": {
      "text/html": [
       "<div>\n",
       "<style scoped>\n",
       "    .dataframe tbody tr th:only-of-type {\n",
       "        vertical-align: middle;\n",
       "    }\n",
       "\n",
       "    .dataframe tbody tr th {\n",
       "        vertical-align: top;\n",
       "    }\n",
       "\n",
       "    .dataframe thead th {\n",
       "        text-align: right;\n",
       "    }\n",
       "</style>\n",
       "<table border=\"1\" class=\"dataframe\">\n",
       "  <thead>\n",
       "    <tr style=\"text-align: right;\">\n",
       "      <th></th>\n",
       "      <th>Student ID</th>\n",
       "      <th>student_name</th>\n",
       "      <th>gender</th>\n",
       "      <th>grade</th>\n",
       "      <th>school_name</th>\n",
       "      <th>reading_score</th>\n",
       "      <th>math_score</th>\n",
       "      <th>School ID</th>\n",
       "      <th>type</th>\n",
       "      <th>size</th>\n",
       "      <th>budget</th>\n",
       "    </tr>\n",
       "  </thead>\n",
       "  <tbody>\n",
       "    <tr>\n",
       "      <th>0</th>\n",
       "      <td>0</td>\n",
       "      <td>Paul Bradley</td>\n",
       "      <td>M</td>\n",
       "      <td>9th</td>\n",
       "      <td>Huang High School</td>\n",
       "      <td>66</td>\n",
       "      <td>79</td>\n",
       "      <td>0</td>\n",
       "      <td>District</td>\n",
       "      <td>2917</td>\n",
       "      <td>1910635</td>\n",
       "    </tr>\n",
       "    <tr>\n",
       "      <th>1</th>\n",
       "      <td>1</td>\n",
       "      <td>Victor Smith</td>\n",
       "      <td>M</td>\n",
       "      <td>12th</td>\n",
       "      <td>Huang High School</td>\n",
       "      <td>94</td>\n",
       "      <td>61</td>\n",
       "      <td>0</td>\n",
       "      <td>District</td>\n",
       "      <td>2917</td>\n",
       "      <td>1910635</td>\n",
       "    </tr>\n",
       "    <tr>\n",
       "      <th>2</th>\n",
       "      <td>2</td>\n",
       "      <td>Kevin Rodriguez</td>\n",
       "      <td>M</td>\n",
       "      <td>12th</td>\n",
       "      <td>Huang High School</td>\n",
       "      <td>90</td>\n",
       "      <td>60</td>\n",
       "      <td>0</td>\n",
       "      <td>District</td>\n",
       "      <td>2917</td>\n",
       "      <td>1910635</td>\n",
       "    </tr>\n",
       "    <tr>\n",
       "      <th>3</th>\n",
       "      <td>3</td>\n",
       "      <td>Dr. Richard Scott</td>\n",
       "      <td>M</td>\n",
       "      <td>12th</td>\n",
       "      <td>Huang High School</td>\n",
       "      <td>67</td>\n",
       "      <td>58</td>\n",
       "      <td>0</td>\n",
       "      <td>District</td>\n",
       "      <td>2917</td>\n",
       "      <td>1910635</td>\n",
       "    </tr>\n",
       "    <tr>\n",
       "      <th>4</th>\n",
       "      <td>4</td>\n",
       "      <td>Bonnie Ray</td>\n",
       "      <td>F</td>\n",
       "      <td>9th</td>\n",
       "      <td>Huang High School</td>\n",
       "      <td>97</td>\n",
       "      <td>84</td>\n",
       "      <td>0</td>\n",
       "      <td>District</td>\n",
       "      <td>2917</td>\n",
       "      <td>1910635</td>\n",
       "    </tr>\n",
       "  </tbody>\n",
       "</table>\n",
       "</div>"
      ],
      "text/plain": [
       "   Student ID       student_name gender grade        school_name  \\\n",
       "0           0       Paul Bradley      M   9th  Huang High School   \n",
       "1           1       Victor Smith      M  12th  Huang High School   \n",
       "2           2    Kevin Rodriguez      M  12th  Huang High School   \n",
       "3           3  Dr. Richard Scott      M  12th  Huang High School   \n",
       "4           4         Bonnie Ray      F   9th  Huang High School   \n",
       "\n",
       "   reading_score  math_score  School ID      type  size   budget  \n",
       "0             66          79          0  District  2917  1910635  \n",
       "1             94          61          0  District  2917  1910635  \n",
       "2             90          60          0  District  2917  1910635  \n",
       "3             67          58          0  District  2917  1910635  \n",
       "4             97          84          0  District  2917  1910635  "
      ]
     },
     "execution_count": 99,
     "metadata": {},
     "output_type": "execute_result"
    }
   ],
   "source": [
    "import pandas as pd\n",
    "from pathlib import Path\n",
    "\n",
    "#file path\n",
    "school_data_file_path=Path(\"../Resources/schools_complete.csv\")\n",
    "student_data_file_path=Path(\"../Resources/students_complete.csv\")\n",
    "\n",
    "#read file \n",
    "school_data = pd.read_csv(school_data_file_path)\n",
    "student_data = pd.read_csv(student_data_file_path)\n",
    "\n",
    "#merging student and school datasets\n",
    "school_dataset = pd.merge(student_data, school_data, how=\"left\", on=[\"school_name\", \"school_name\"])\n",
    "school_dataset.head()\n"
   ]
  },
  {
   "cell_type": "markdown",
   "id": "f3ce2336",
   "metadata": {},
   "source": [
    "## District Summary\n"
   ]
  },
  {
   "cell_type": "code",
   "execution_count": 100,
   "id": "456c0ed1",
   "metadata": {},
   "outputs": [
    {
     "data": {
      "text/plain": [
       "15"
      ]
     },
     "execution_count": 100,
     "metadata": {},
     "output_type": "execute_result"
    }
   ],
   "source": [
    "#Total number of unique schools\n",
    "school_count=school_dataset['school_name'].nunique()\n",
    "school_count"
   ]
  },
  {
   "cell_type": "code",
   "execution_count": 101,
   "id": "bfbc8fff",
   "metadata": {
    "scrolled": true
   },
   "outputs": [
    {
     "data": {
      "text/plain": [
       "39170"
      ]
     },
     "execution_count": 101,
     "metadata": {},
     "output_type": "execute_result"
    }
   ],
   "source": [
    "#Total students\n",
    "student_count =school_dataset['Student ID'].nunique()\n",
    "student_count"
   ]
  },
  {
   "cell_type": "code",
   "execution_count": 102,
   "id": "e98b406a",
   "metadata": {},
   "outputs": [
    {
     "data": {
      "text/plain": [
       "24649428"
      ]
     },
     "execution_count": 102,
     "metadata": {},
     "output_type": "execute_result"
    }
   ],
   "source": [
    "#Total budget\n",
    "total_budget =school_dataset.groupby('school_name')['budget'].first().sum()\n",
    "total_budget"
   ]
  },
  {
   "cell_type": "code",
   "execution_count": 103,
   "id": "299f869a",
   "metadata": {},
   "outputs": [
    {
     "data": {
      "text/plain": [
       "78.98537145774827"
      ]
     },
     "execution_count": 103,
     "metadata": {},
     "output_type": "execute_result"
    }
   ],
   "source": [
    "#Average math score\n",
    "math_score_avg = school_dataset['math_score'].mean()\n",
    "math_score_avg"
   ]
  },
  {
   "cell_type": "code",
   "execution_count": 104,
   "id": "eece4dad",
   "metadata": {},
   "outputs": [
    {
     "data": {
      "text/plain": [
       "81.87784018381414"
      ]
     },
     "execution_count": 104,
     "metadata": {},
     "output_type": "execute_result"
    }
   ],
   "source": [
    "#Average reading score\n",
    "reading_score_avg = school_dataset['reading_score'].mean()\n",
    "reading_score_avg"
   ]
  },
  {
   "cell_type": "code",
   "execution_count": 105,
   "id": "7ee74617",
   "metadata": {},
   "outputs": [
    {
     "data": {
      "text/plain": [
       "74.9808526933878"
      ]
     },
     "execution_count": 105,
     "metadata": {},
     "output_type": "execute_result"
    }
   ],
   "source": [
    "#% passing math (the percentage of students who passed math)\n",
    "passing_math_score = school_dataset[(school_dataset[\"math_score\"] >= 70)].count()[\"student_name\"]\n",
    "students_passing_math_percentage = passing_math_score / float(student_count) * 100\n",
    "students_passing_math_percentage\n"
   ]
  },
  {
   "cell_type": "code",
   "execution_count": 106,
   "id": "62d2da75",
   "metadata": {},
   "outputs": [
    {
     "data": {
      "text/plain": [
       "85.80546336482001"
      ]
     },
     "execution_count": 106,
     "metadata": {},
     "output_type": "execute_result"
    }
   ],
   "source": [
    "#% passing reading (the percentage of students who passed reading)\n",
    "passing_reading_score = school_dataset[(school_dataset[\"reading_score\"] >= 70)].count()[\"student_name\"]\n",
    "students_passing_reading_percentage = passing_reading_score / float(student_count) * 100\n",
    "\n",
    "students_passing_reading_percentage"
   ]
  },
  {
   "cell_type": "code",
   "execution_count": 107,
   "id": "2cf24540",
   "metadata": {},
   "outputs": [
    {
     "data": {
      "text/plain": [
       "65.17232575950983"
      ]
     },
     "execution_count": 107,
     "metadata": {},
     "output_type": "execute_result"
    }
   ],
   "source": [
    "#% overall passing (the percentage of students who passed math AND reading)\n",
    "passing_math_reading_score = school_dataset[\n",
    "    (school_dataset[\"math_score\"] >= 70) & (school_dataset[\"reading_score\"] >= 70)].count()[\"student_name\"]\n",
    "students_passing_math_reading_percentage = passing_math_reading_score / float(student_count) * 100\n",
    "\n",
    "students_passing_math_reading_percentage"
   ]
  },
  {
   "cell_type": "code",
   "execution_count": null,
   "id": "1f43f18e",
   "metadata": {},
   "outputs": [],
   "source": []
  },
  {
   "cell_type": "code",
   "execution_count": 116,
   "id": "72a955e0",
   "metadata": {},
   "outputs": [
    {
     "data": {
      "text/html": [
       "<div>\n",
       "<style scoped>\n",
       "    .dataframe tbody tr th:only-of-type {\n",
       "        vertical-align: middle;\n",
       "    }\n",
       "\n",
       "    .dataframe tbody tr th {\n",
       "        vertical-align: top;\n",
       "    }\n",
       "\n",
       "    .dataframe thead th {\n",
       "        text-align: right;\n",
       "    }\n",
       "</style>\n",
       "<table border=\"1\" class=\"dataframe\">\n",
       "  <thead>\n",
       "    <tr style=\"text-align: right;\">\n",
       "      <th></th>\n",
       "      <th>Total School Count</th>\n",
       "      <th>Total Student Count</th>\n",
       "      <th>Total Budget</th>\n",
       "      <th>Average Math Score</th>\n",
       "      <th>Average Reading Score</th>\n",
       "      <th>% Passing Math</th>\n",
       "      <th>% Passing Reading</th>\n",
       "      <th>% Overall Passing</th>\n",
       "    </tr>\n",
       "  </thead>\n",
       "  <tbody>\n",
       "    <tr>\n",
       "      <th>0</th>\n",
       "      <td>15</td>\n",
       "      <td>39,170</td>\n",
       "      <td>$24,649,428.00</td>\n",
       "      <td>78.985371</td>\n",
       "      <td>81.87784</td>\n",
       "      <td>74.980853</td>\n",
       "      <td>85.805463</td>\n",
       "      <td>65.172326</td>\n",
       "    </tr>\n",
       "  </tbody>\n",
       "</table>\n",
       "</div>"
      ],
      "text/plain": [
       "   Total School Count Total Student Count    Total Budget  Average Math Score  \\\n",
       "0                  15              39,170  $24,649,428.00           78.985371   \n",
       "\n",
       "   Average Reading Score  % Passing Math  % Passing Reading  % Overall Passing  \n",
       "0               81.87784       74.980853          85.805463          65.172326  "
      ]
     },
     "execution_count": 116,
     "metadata": {},
     "output_type": "execute_result"
    }
   ],
   "source": [
    "District_Summary = pd.DataFrame({\n",
    "    'Total School Count': [15],\n",
    "    'Total Student Count': [39170],\n",
    "    'Total Budget': [24649428],\n",
    "    'Average Math Score': [78.98537145774827],\n",
    "    'Average Reading Score': [81.87784018381414],\n",
    "    '% Passing Math': [74.9808526933878],\n",
    "    '% Passing Reading': [85.80546336482001],\n",
    "    '% Overall Passing': [65.17232575950983]\n",
    "})\n",
    "\n",
    "District_Summary[\"Total Student Count\"] = District_Summary[\"Total Student Count\"].map(\"{:,}\".format)\n",
    "District_Summary[\"Total Budget\"] = District_Summary[\"Total Budget\"].map(\"${:,.2f}\".format)\n",
    "\n",
    "District_Summary"
   ]
  },
  {
   "cell_type": "markdown",
   "id": "58e68ff9",
   "metadata": {},
   "source": [
    "## School Summary\n"
   ]
  },
  {
   "cell_type": "code",
   "execution_count": null,
   "id": "6da11d75",
   "metadata": {},
   "outputs": [],
   "source": [
    "#School name\n",
    "\n",
    "school_info = school_data.set_index([\"school_name\"])[\"type\"]\n",
    "school_info"
   ]
  },
  {
   "cell_type": "code",
   "execution_count": null,
   "id": "4ad06a1a",
   "metadata": {},
   "outputs": [],
   "source": [
    "#School type"
   ]
  },
  {
   "cell_type": "code",
   "execution_count": null,
   "id": "9be414cc",
   "metadata": {},
   "outputs": [],
   "source": [
    "\n",
    "#Total students"
   ]
  },
  {
   "cell_type": "code",
   "execution_count": null,
   "id": "cce58e1e",
   "metadata": {},
   "outputs": [],
   "source": [
    "#Total school budget"
   ]
  },
  {
   "cell_type": "code",
   "execution_count": null,
   "id": "3c30693c",
   "metadata": {},
   "outputs": [],
   "source": [
    "#Per student budget"
   ]
  },
  {
   "cell_type": "code",
   "execution_count": null,
   "id": "2f99d145",
   "metadata": {},
   "outputs": [],
   "source": [
    "#Average math score"
   ]
  },
  {
   "cell_type": "code",
   "execution_count": null,
   "id": "9697bfe5",
   "metadata": {},
   "outputs": [],
   "source": [
    "#Average reading score"
   ]
  },
  {
   "cell_type": "code",
   "execution_count": null,
   "id": "043f5acd",
   "metadata": {},
   "outputs": [],
   "source": [
    "#% passing math (the percentage of students who passed math)\n",
    "\n",
    "#% passing reading (the percentage of students who passed reading)\n",
    "\n",
    "#% overall passing (the percentage of students who passed math AND reading)"
   ]
  },
  {
   "cell_type": "markdown",
   "id": "1c7213c5",
   "metadata": {},
   "source": [
    "## Highest-Performing Schools (by % Overall Passing)"
   ]
  },
  {
   "cell_type": "code",
   "execution_count": null,
   "id": "826fc743",
   "metadata": {},
   "outputs": [],
   "source": []
  },
  {
   "cell_type": "markdown",
   "id": "3dcc6c2f",
   "metadata": {},
   "source": [
    "## Lowest-Performing Schools (by % Overall Passing)"
   ]
  },
  {
   "cell_type": "code",
   "execution_count": null,
   "id": "f003283a",
   "metadata": {},
   "outputs": [],
   "source": []
  },
  {
   "cell_type": "markdown",
   "id": "ac0521c1",
   "metadata": {},
   "source": [
    "## Math Scores by Grade"
   ]
  },
  {
   "cell_type": "code",
   "execution_count": null,
   "id": "14941bb1",
   "metadata": {},
   "outputs": [],
   "source": []
  },
  {
   "cell_type": "markdown",
   "id": "eebab99c",
   "metadata": {},
   "source": [
    "## Reading Scores by Grade "
   ]
  },
  {
   "cell_type": "code",
   "execution_count": null,
   "id": "05535966",
   "metadata": {},
   "outputs": [],
   "source": []
  },
  {
   "cell_type": "markdown",
   "id": "3feb863f",
   "metadata": {},
   "source": [
    "## Scores by School Spending"
   ]
  },
  {
   "cell_type": "code",
   "execution_count": null,
   "id": "f9a366ea",
   "metadata": {},
   "outputs": [],
   "source": []
  },
  {
   "cell_type": "markdown",
   "id": "df542edc",
   "metadata": {},
   "source": [
    "## Scores by School Size"
   ]
  },
  {
   "cell_type": "code",
   "execution_count": null,
   "id": "1561abe1",
   "metadata": {},
   "outputs": [],
   "source": []
  },
  {
   "cell_type": "markdown",
   "id": "9e6e9f07",
   "metadata": {},
   "source": [
    "## Scores by School Type"
   ]
  },
  {
   "cell_type": "code",
   "execution_count": null,
   "id": "485119dc",
   "metadata": {},
   "outputs": [],
   "source": []
  }
 ],
 "metadata": {
  "kernelspec": {
   "display_name": "Python 3 (ipykernel)",
   "language": "python",
   "name": "python3"
  },
  "language_info": {
   "codemirror_mode": {
    "name": "ipython",
    "version": 3
   },
   "file_extension": ".py",
   "mimetype": "text/x-python",
   "name": "python",
   "nbconvert_exporter": "python",
   "pygments_lexer": "ipython3",
   "version": "3.11.7"
  }
 },
 "nbformat": 4,
 "nbformat_minor": 5
}
